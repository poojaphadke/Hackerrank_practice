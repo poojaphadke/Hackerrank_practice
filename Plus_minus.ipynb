{
 "cells": [
  {
   "cell_type": "code",
   "execution_count": null,
   "metadata": {},
   "outputs": [],
   "source": [
    "#!/bin/python3\n",
    "\n",
    "import math\n",
    "import os\n",
    "import random\n",
    "import re\n",
    "import sys\n",
    "\n",
    "# Complete the plusMinus function below.\n",
    "def plusMinus(arr):\n",
    "    pos = 0\n",
    "    neg = 0\n",
    "    zer = 0\n",
    "    for i in range(len(arr)):\n",
    "        if (arr[i]>0):\n",
    "            pos = pos+1\n",
    "        elif (arr[i]<0):\n",
    "            neg = neg+1\n",
    "        else:\n",
    "            zer = zer+1\n",
    "    print (pos/len(arr))\n",
    "    print (neg/len(arr))\n",
    "    print (zer/len(arr))\n",
    "\n",
    "if __name__ == '__main__':\n",
    "    n = int(input())\n",
    "\n",
    "    arr = list(map(int, input().rstrip().split()))\n",
    "\n",
    "    plusMinus(arr)\n"
   ]
  }
 ],
 "metadata": {
  "kernelspec": {
   "display_name": "Python 3",
   "language": "python",
   "name": "python3"
  },
  "language_info": {
   "codemirror_mode": {
    "name": "ipython",
    "version": 3
   },
   "file_extension": ".py",
   "mimetype": "text/x-python",
   "name": "python",
   "nbconvert_exporter": "python",
   "pygments_lexer": "ipython3",
   "version": "3.7.3"
  }
 },
 "nbformat": 4,
 "nbformat_minor": 2
}
