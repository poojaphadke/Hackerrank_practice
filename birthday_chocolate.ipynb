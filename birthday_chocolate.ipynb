{
 "cells": [
  {
   "cell_type": "code",
   "execution_count": null,
   "metadata": {},
   "outputs": [],
   "source": [
    "import math\n",
    "import os\n",
    "import random\n",
    "import re\n",
    "import sys\n",
    "\n",
    "# Complete the birthday function below.\n",
    "def birthday(s, d, m):\n",
    "    total = 0\n",
    "    for i in range(len(s)):\n",
    "        n=0\n",
    "        count=0\n",
    "        while (n<m):\n",
    "            count = count +s[i+n]\n",
    "            n = n+1\n",
    "        if (count == d):\n",
    "            total = total+1\n",
    "        if (i+n == len(s)):\n",
    "            break\n",
    "    return total \n",
    "\n"
   ]
  }
 ],
 "metadata": {
  "kernelspec": {
   "display_name": "Python 3",
   "language": "python",
   "name": "python3"
  },
  "language_info": {
   "codemirror_mode": {
    "name": "ipython",
    "version": 3
   },
   "file_extension": ".py",
   "mimetype": "text/x-python",
   "name": "python",
   "nbconvert_exporter": "python",
   "pygments_lexer": "ipython3",
   "version": "3.7.3"
  }
 },
 "nbformat": 4,
 "nbformat_minor": 2
}
