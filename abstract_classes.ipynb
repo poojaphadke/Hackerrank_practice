{
 "cells": [
  {
   "cell_type": "code",
   "execution_count": null,
   "metadata": {},
   "outputs": [],
   "source": [
    "from abc import ABCMeta, abstractmethod\n",
    "class Book(object, metaclass=ABCMeta):\n",
    "    def __init__(self,title,author):\n",
    "        self.title=title\n",
    "        self.author=author   \n",
    "    @abstractmethod\n",
    "    def display(): pass\n",
    "#Write MyBook class\n",
    "class MyBook(Book):\n",
    "    def __init__(self, title, author, price):\n",
    "        super().__init__(title,author)\n",
    "        self.price = price\n",
    "    def display(self):\n",
    "        print('Title:', self.title)\n",
    "        print('Author:', self.author)\n",
    "        print('Price:', self.price)\n",
    "\n",
    "title=input()\n",
    "author=input()\n",
    "price=int(input())\n",
    "new_novel=MyBook(title,author,price)\n",
    "new_novel.display()\n"
   ]
  }
 ],
 "metadata": {
  "kernelspec": {
   "display_name": "Python 3",
   "language": "python",
   "name": "python3"
  },
  "language_info": {
   "codemirror_mode": {
    "name": "ipython",
    "version": 3
   },
   "file_extension": ".py",
   "mimetype": "text/x-python",
   "name": "python",
   "nbconvert_exporter": "python",
   "pygments_lexer": "ipython3",
   "version": "3.7.3"
  }
 },
 "nbformat": 4,
 "nbformat_minor": 2
}
