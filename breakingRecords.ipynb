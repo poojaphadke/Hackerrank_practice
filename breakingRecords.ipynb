{
 "cells": [
  {
   "cell_type": "code",
   "execution_count": null,
   "metadata": {},
   "outputs": [],
   "source": [
    "import math\n",
    "import os\n",
    "import random\n",
    "import re\n",
    "import sys\n",
    "\n",
    "# Complete the breakingRecords function below.\n",
    "def breakingRecords(scores):\n",
    "    maximum = scores[0]\n",
    "    minimum = scores[0]\n",
    "    max_count = 0\n",
    "    min_count = 0\n",
    "    for i in range(len(scores)):\n",
    "        if (scores[i]>maximum):\n",
    "            maximum = scores[i]\n",
    "            max_count=max_count+1\n",
    "        if (scores[i]<minimum):\n",
    "            minimum = scores[i]\n",
    "            min_count=min_count+1\n",
    "    return [max_count, min_count]\n",
    "if __name__ == '__main__':\n",
    "    fptr = open(os.environ['OUTPUT_PATH'], 'w')\n",
    "\n",
    "    n = int(input())\n",
    "\n",
    "    scores = list(map(int, input().rstrip().split()))\n",
    "\n",
    "    result = breakingRecords(scores)\n",
    "\n",
    "    fptr.write(' '.join(map(str, result)))\n",
    "    fptr.write('\\n')\n",
    "\n",
    "    fptr.close()\n"
   ]
  }
 ],
 "metadata": {
  "kernelspec": {
   "display_name": "Python 3",
   "language": "python",
   "name": "python3"
  },
  "language_info": {
   "codemirror_mode": {
    "name": "ipython",
    "version": 3
   },
   "file_extension": ".py",
   "mimetype": "text/x-python",
   "name": "python",
   "nbconvert_exporter": "python",
   "pygments_lexer": "ipython3",
   "version": "3.7.3"
  }
 },
 "nbformat": 4,
 "nbformat_minor": 2
}
